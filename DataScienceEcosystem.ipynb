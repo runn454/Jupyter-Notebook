{
 "cells": [
  {
   "cell_type": "markdown",
   "id": "f27a93bd-b7df-47a4-9470-5857aebe84c0",
   "metadata": {},
   "source": [
    "# Data Science Tools and Ecosystem"
   ]
  },
  {
   "cell_type": "markdown",
   "id": "8ca038cd-5f9a-4b76-9d36-7a3d0d5deae3",
   "metadata": {},
   "source": [
    "In this notebook, Data Science Tools and Ecosystem are summarized."
   ]
  },
  {
   "cell_type": "markdown",
   "id": "379a4502-b461-4687-8420-cc3c67ed5de1",
   "metadata": {},
   "source": [
    "Some of the popular languages that Data Scientists use are:"
   ]
  },
  {
   "cell_type": "markdown",
   "id": "9ec023c9-5a93-44cf-b6e2-c5367986bd51",
   "metadata": {},
   "source": [
    "1. Python\n",
    "2. R\n",
    "3. SQL"
   ]
  },
  {
   "cell_type": "markdown",
   "id": "e27f93a2-7ee9-40f7-9fc7-4a7dd652d4d9",
   "metadata": {},
   "source": [
    "Some of the commonly used libraries used by Data Scientists include:\n",
    "1. Pandas\n",
    "2. NumPy\n",
    "3. Scikit-learn"
   ]
  },
  {
   "cell_type": "markdown",
   "id": "f16cac1b-7045-4069-a4c6-ec1504a7f78f",
   "metadata": {},
   "source": [
    "| Data Science Tools |\n",
    "|--------------------|\n",
    "|      Tool 1        |\n",
    "|      Tool 2        |\n",
    "|      Tool 3        |"
   ]
  },
  {
   "cell_type": "markdown",
   "id": "b11e5cef-a385-46ad-a8c9-dd648cdb552c",
   "metadata": {},
   "source": [
    "### Below are a few examples of evaluating arithmetic expressions in Python"
   ]
  },
  {
   "cell_type": "code",
   "execution_count": 8,
   "id": "99c064e3-ed7e-4dea-93a9-0c26f0f0cbff",
   "metadata": {},
   "outputs": [
    {
     "data": {
      "text/plain": [
       "17"
      ]
     },
     "execution_count": 8,
     "metadata": {},
     "output_type": "execute_result"
    }
   ],
   "source": [
    "# This is a simple arithmetic expression to multiply then add intergers.\n",
    "(3*4)+5"
   ]
  },
  {
   "cell_type": "code",
   "execution_count": 9,
   "id": "8a13f179-c78b-48f0-b6a0-99d413f99d63",
   "metadata": {},
   "outputs": [
    {
     "data": {
      "text/plain": [
       "3.3333333333333335"
      ]
     },
     "execution_count": 9,
     "metadata": {},
     "output_type": "execute_result"
    }
   ],
   "source": [
    "# This will convert 200 minutes to hours by diving by 60\n",
    "200/60"
   ]
  },
  {
   "cell_type": "markdown",
   "id": "ae3feac0-6baf-4a86-8b76-2a4025b45794",
   "metadata": {},
   "source": [
    "**Objectives:**\n",
    "\n",
    "Python \n",
    "\n",
    "C++\n",
    "\n",
    "R"
   ]
  },
  {
   "cell_type": "markdown",
   "id": "b03caed6-e6c5-4a87-b451-abae2e6ac7e0",
   "metadata": {},
   "source": [
    "## Author\n",
    "Glen Raymond"
   ]
  },
  {
   "cell_type": "code",
   "execution_count": null,
   "id": "1e54d7af-d727-4c08-bbb2-4d2056d8dae7",
   "metadata": {},
   "outputs": [],
   "source": []
  }
 ],
 "metadata": {
  "kernelspec": {
   "display_name": "Python 3 (ipykernel)",
   "language": "python",
   "name": "python3"
  },
  "language_info": {
   "codemirror_mode": {
    "name": "ipython",
    "version": 3
   },
   "file_extension": ".py",
   "mimetype": "text/x-python",
   "name": "python",
   "nbconvert_exporter": "python",
   "pygments_lexer": "ipython3",
   "version": "3.10.9"
  }
 },
 "nbformat": 4,
 "nbformat_minor": 5
}
